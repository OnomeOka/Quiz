{
 "cells": [
  {
   "cell_type": "code",
   "execution_count": null,
   "id": "66f30cdb",
   "metadata": {},
   "outputs": [
    {
     "name": "stdout",
     "output_type": "stream",
     "text": [
      "Enter your name: Peter\n",
      "Question 1: What is the capital of France? paris\n",
      "Correct!\n",
      "\n"
     ]
    }
   ],
   "source": [
    "import random\n",
    "\n",
    "# Define quiz questions and answers\n",
    "questions = [\n",
    "    \"What is the capital of France? \",\n",
    "    \"Which planet is known as the Red Planet? \",\n",
    "    \"What is the largest mammal in the world? \",\n",
    "    \"Who wrote 'Romeo and Juliet'? \",\n",
    "    \"What is the chemical symbol for gold? \",\n",
    "    \"How many continents are there on Earth? \",\n",
    "    \"What is the largest organ in the human body? \",\n",
    "    \"Which gas do plants absorb from the atmosphere? \",\n",
    "    \"What is the powerhouse of the cell? \",\n",
    "    \"How many sides does a hexagon have? \"\n",
    "]\n",
    "\n",
    "answers = [\"Paris\", \"Mars\", \"Blue Whale\", \"William Shakespeare\", \"Au\", \"7\", \"Skin\", \"Carbon Dioxide\", \"Mitochondria\", \"6\"]\n",
    "\n",
    "# Function to administer the quiz\n",
    "def run_quiz():\n",
    "    name = input(\"Enter your name: \")\n",
    "    score = 0\n",
    "    total_questions = 10\n",
    "\n",
    "    for i in range(total_questions):\n",
    "        question = random.choice(questions)\n",
    "        index = questions.index(question)\n",
    "        correct_answer = answers[index]\n",
    "        questions.remove(question)\n",
    "        answers.pop(index)\n",
    "\n",
    "        user_answer = input(f\"Question {i + 1}: {question}\")\n",
    "        if user_answer.lower() == correct_answer.lower():\n",
    "            print(\"Correct!\\n\")\n",
    "            score += 1\n",
    "        else:\n",
    "            print(f\"Wrong! The correct answer is: {correct_answer}\\n\")\n",
    "\n",
    "    percentage_score = (score / total_questions) * 100\n",
    "    print(f\"Quiz complete, {name}! You scored {score} out of {total_questions} ({percentage_score:.2f}%)\\n\")\n",
    "    return name, score, percentage_score\n",
    "\n",
    "# Main program\n",
    "users = []\n",
    "while True:\n",
    "    name, score, percentage = run_quiz()\n",
    "    users.append((name, score, percentage))\n",
    "    \n",
    "    another_user = input(\"Do you want to let another user take the quiz? (yes/no): \")\n",
    "    if another_user.lower() != 'yes':\n",
    "        break\n",
    "\n",
    "# Display results\n",
    "users.sort(key=lambda x: x[1], reverse=True)\n",
    "print(\"Quiz Results:\")\n",
    "for user in users:\n",
    "    print(f\"Name: {user[0]}, Score: {user[1]}/{total_questions}, Percentage: {user[2]:.2f}%\")\n",
    "\n",
    "# Calculate average score\n",
    "total_score = sum(user[1] for user in users)\n",
    "average_score = total_score / len(users)\n",
    "print(f\"Average Score: {average_score:.2f}%\")\n"
   ]
  },
  {
   "cell_type": "code",
   "execution_count": null,
   "id": "eb12a79f",
   "metadata": {},
   "outputs": [],
   "source": []
  },
  {
   "cell_type": "code",
   "execution_count": null,
   "id": "66f37205",
   "metadata": {},
   "outputs": [],
   "source": []
  }
 ],
 "metadata": {
  "kernelspec": {
   "display_name": "Python 3 (ipykernel)",
   "language": "python",
   "name": "python3"
  },
  "language_info": {
   "codemirror_mode": {
    "name": "ipython",
    "version": 3
   },
   "file_extension": ".py",
   "mimetype": "text/x-python",
   "name": "python",
   "nbconvert_exporter": "python",
   "pygments_lexer": "ipython3",
   "version": "3.10.9"
  }
 },
 "nbformat": 4,
 "nbformat_minor": 5
}
